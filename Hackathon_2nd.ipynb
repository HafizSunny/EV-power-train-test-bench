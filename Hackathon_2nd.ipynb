{
  "nbformat": 4,
  "nbformat_minor": 0,
  "metadata": {
    "colab": {
      "name": "Hackathon_2nd.ipynb",
      "provenance": [],
      "collapsed_sections": []
    },
    "kernelspec": {
      "name": "python3",
      "display_name": "Python 3"
    },
    "language_info": {
      "name": "python"
    }
  },
  "cells": [
    {
      "cell_type": "code",
      "metadata": {
        "id": "rilxSbJvmPZA"
      },
      "source": [
        "import pandas as pd\n",
        "import numpy as np"
      ],
      "execution_count": null,
      "outputs": []
    },
    {
      "cell_type": "code",
      "metadata": {
        "id": "ur_mHG6Ms2tm"
      },
      "source": [
        "path = r'/content/drive/MyDrive/Hackathon/Hackathon_2021/Sample_data/data/matrix/matrix_.csv'\n",
        "matrix = pd.read_csv(path,skipinitialspace=True).fillna(method='ffill').set_index('Components','Test ID')"
      ],
      "execution_count": null,
      "outputs": []
    },
    {
      "cell_type": "code",
      "metadata": {
        "colab": {
          "base_uri": "https://localhost:8080/",
          "height": 450
        },
        "id": "AnXduKX27c3m",
        "outputId": "7e8c8da3-2ba7-427a-ad5e-588df83e2167"
      },
      "source": [
        "matrix"
      ],
      "execution_count": null,
      "outputs": [
        {
          "output_type": "execute_result",
          "data": {
            "text/html": [
              "<div>\n",
              "<style scoped>\n",
              "    .dataframe tbody tr th:only-of-type {\n",
              "        vertical-align: middle;\n",
              "    }\n",
              "\n",
              "    .dataframe tbody tr th {\n",
              "        vertical-align: top;\n",
              "    }\n",
              "\n",
              "    .dataframe thead th {\n",
              "        text-align: right;\n",
              "    }\n",
              "</style>\n",
              "<table border=\"1\" class=\"dataframe\">\n",
              "  <thead>\n",
              "    <tr style=\"text-align: right;\">\n",
              "      <th></th>\n",
              "      <th>Test ID</th>\n",
              "      <th>Available Material Quantity</th>\n",
              "      <th>1</th>\n",
              "      <th>2</th>\n",
              "      <th>3</th>\n",
              "      <th>4</th>\n",
              "      <th>5</th>\n",
              "      <th>6</th>\n",
              "      <th>7</th>\n",
              "      <th>8</th>\n",
              "      <th>9</th>\n",
              "      <th>10</th>\n",
              "      <th>11</th>\n",
              "      <th>12</th>\n",
              "    </tr>\n",
              "    <tr>\n",
              "      <th>Components</th>\n",
              "      <th></th>\n",
              "      <th></th>\n",
              "      <th></th>\n",
              "      <th></th>\n",
              "      <th></th>\n",
              "      <th></th>\n",
              "      <th></th>\n",
              "      <th></th>\n",
              "      <th></th>\n",
              "      <th></th>\n",
              "      <th></th>\n",
              "      <th></th>\n",
              "      <th></th>\n",
              "      <th></th>\n",
              "    </tr>\n",
              "  </thead>\n",
              "  <tbody>\n",
              "    <tr>\n",
              "      <th>A1</th>\n",
              "      <td>1004</td>\n",
              "      <td>22</td>\n",
              "      <td>Y</td>\n",
              "      <td>Y</td>\n",
              "      <td>Y</td>\n",
              "      <td>Y</td>\n",
              "      <td>Y</td>\n",
              "      <td>Y</td>\n",
              "      <td>y</td>\n",
              "      <td>N</td>\n",
              "      <td>Y</td>\n",
              "      <td>Y</td>\n",
              "      <td>Y</td>\n",
              "      <td>Y</td>\n",
              "    </tr>\n",
              "    <tr>\n",
              "      <th>A1</th>\n",
              "      <td>65</td>\n",
              "      <td>13</td>\n",
              "      <td>Y</td>\n",
              "      <td>Y</td>\n",
              "      <td>Y</td>\n",
              "      <td>Y</td>\n",
              "      <td>Y</td>\n",
              "      <td>Y</td>\n",
              "      <td>Y</td>\n",
              "      <td>N</td>\n",
              "      <td>Y</td>\n",
              "      <td>Y</td>\n",
              "      <td>Y</td>\n",
              "      <td>Y</td>\n",
              "    </tr>\n",
              "    <tr>\n",
              "      <th>A1</th>\n",
              "      <td>1241</td>\n",
              "      <td>39</td>\n",
              "      <td>N</td>\n",
              "      <td>N</td>\n",
              "      <td>Y</td>\n",
              "      <td>Y</td>\n",
              "      <td>N</td>\n",
              "      <td>Y</td>\n",
              "      <td>Y</td>\n",
              "      <td>N</td>\n",
              "      <td>N</td>\n",
              "      <td>Y</td>\n",
              "      <td>Y</td>\n",
              "      <td>Y</td>\n",
              "    </tr>\n",
              "    <tr>\n",
              "      <th>A1</th>\n",
              "      <td>6251</td>\n",
              "      <td>47</td>\n",
              "      <td>N</td>\n",
              "      <td>N</td>\n",
              "      <td>N</td>\n",
              "      <td>N</td>\n",
              "      <td>N</td>\n",
              "      <td>N</td>\n",
              "      <td>N</td>\n",
              "      <td>Y</td>\n",
              "      <td>N</td>\n",
              "      <td>N</td>\n",
              "      <td>N</td>\n",
              "      <td>N</td>\n",
              "    </tr>\n",
              "    <tr>\n",
              "      <th>A1</th>\n",
              "      <td>1317</td>\n",
              "      <td>14</td>\n",
              "      <td>N</td>\n",
              "      <td>N</td>\n",
              "      <td>N</td>\n",
              "      <td>N</td>\n",
              "      <td>N</td>\n",
              "      <td>N</td>\n",
              "      <td>Y</td>\n",
              "      <td>N</td>\n",
              "      <td>Y</td>\n",
              "      <td>N</td>\n",
              "      <td>N</td>\n",
              "      <td>N</td>\n",
              "    </tr>\n",
              "    <tr>\n",
              "      <th>...</th>\n",
              "      <td>...</td>\n",
              "      <td>...</td>\n",
              "      <td>...</td>\n",
              "      <td>...</td>\n",
              "      <td>...</td>\n",
              "      <td>...</td>\n",
              "      <td>...</td>\n",
              "      <td>...</td>\n",
              "      <td>...</td>\n",
              "      <td>...</td>\n",
              "      <td>...</td>\n",
              "      <td>...</td>\n",
              "      <td>...</td>\n",
              "      <td>...</td>\n",
              "    </tr>\n",
              "    <tr>\n",
              "      <th>A6</th>\n",
              "      <td>4392</td>\n",
              "      <td>34</td>\n",
              "      <td>Y</td>\n",
              "      <td>Y</td>\n",
              "      <td>Y</td>\n",
              "      <td>Y</td>\n",
              "      <td>Y</td>\n",
              "      <td>Y</td>\n",
              "      <td>Y</td>\n",
              "      <td>N</td>\n",
              "      <td>Y</td>\n",
              "      <td>Y</td>\n",
              "      <td>Y</td>\n",
              "      <td>Y</td>\n",
              "    </tr>\n",
              "    <tr>\n",
              "      <th>A6</th>\n",
              "      <td>5560</td>\n",
              "      <td>17</td>\n",
              "      <td>Y</td>\n",
              "      <td>Y</td>\n",
              "      <td>Y</td>\n",
              "      <td>Y</td>\n",
              "      <td>Y</td>\n",
              "      <td>Y</td>\n",
              "      <td>Y</td>\n",
              "      <td>N</td>\n",
              "      <td>Y</td>\n",
              "      <td>Y</td>\n",
              "      <td>Y</td>\n",
              "      <td>Y</td>\n",
              "    </tr>\n",
              "    <tr>\n",
              "      <th>A6</th>\n",
              "      <td>6261</td>\n",
              "      <td>30</td>\n",
              "      <td>Y</td>\n",
              "      <td>Y</td>\n",
              "      <td>Y</td>\n",
              "      <td>Y</td>\n",
              "      <td>Y</td>\n",
              "      <td>Y</td>\n",
              "      <td>Y</td>\n",
              "      <td>N</td>\n",
              "      <td>Y</td>\n",
              "      <td>Y</td>\n",
              "      <td>Y</td>\n",
              "      <td>Y</td>\n",
              "    </tr>\n",
              "    <tr>\n",
              "      <th>A6</th>\n",
              "      <td>8091</td>\n",
              "      <td>7</td>\n",
              "      <td>N</td>\n",
              "      <td>N</td>\n",
              "      <td>N</td>\n",
              "      <td>N</td>\n",
              "      <td>N</td>\n",
              "      <td>N</td>\n",
              "      <td>Y</td>\n",
              "      <td>N</td>\n",
              "      <td>N</td>\n",
              "      <td>N</td>\n",
              "      <td>N</td>\n",
              "      <td>N</td>\n",
              "    </tr>\n",
              "    <tr>\n",
              "      <th>A6</th>\n",
              "      <td>8416</td>\n",
              "      <td>25</td>\n",
              "      <td>N</td>\n",
              "      <td>N</td>\n",
              "      <td>N</td>\n",
              "      <td>N</td>\n",
              "      <td>N</td>\n",
              "      <td>N</td>\n",
              "      <td>Y</td>\n",
              "      <td>N</td>\n",
              "      <td>N</td>\n",
              "      <td>Y</td>\n",
              "      <td>N</td>\n",
              "      <td>N</td>\n",
              "    </tr>\n",
              "  </tbody>\n",
              "</table>\n",
              "<p>62 rows × 14 columns</p>\n",
              "</div>"
            ],
            "text/plain": [
              "            Test ID  Available Material Quantity  1  2  3  4  ...  7  8  9 10 11 12\n",
              "Components                                                    ...                  \n",
              "A1             1004                           22  Y  Y  Y  Y  ...  y  N  Y  Y  Y  Y\n",
              "A1               65                           13  Y  Y  Y  Y  ...  Y  N  Y  Y  Y  Y\n",
              "A1             1241                           39  N  N  Y  Y  ...  Y  N  N  Y  Y  Y\n",
              "A1             6251                           47  N  N  N  N  ...  N  Y  N  N  N  N\n",
              "A1             1317                           14  N  N  N  N  ...  Y  N  Y  N  N  N\n",
              "...             ...                          ... .. .. .. ..  ... .. .. .. .. .. ..\n",
              "A6             4392                           34  Y  Y  Y  Y  ...  Y  N  Y  Y  Y  Y\n",
              "A6             5560                           17  Y  Y  Y  Y  ...  Y  N  Y  Y  Y  Y\n",
              "A6             6261                           30  Y  Y  Y  Y  ...  Y  N  Y  Y  Y  Y\n",
              "A6             8091                            7  N  N  N  N  ...  Y  N  N  N  N  N\n",
              "A6             8416                           25  N  N  N  N  ...  Y  N  N  Y  N  N\n",
              "\n",
              "[62 rows x 14 columns]"
            ]
          },
          "metadata": {
            "tags": []
          },
          "execution_count": 9
        }
      ]
    },
    {
      "cell_type": "code",
      "metadata": {
        "colab": {
          "base_uri": "https://localhost:8080/",
          "height": 419
        },
        "id": "uxIAMejY6w2k",
        "outputId": "3a02525c-e657-4f5a-bad4-4fa233f650f3"
      },
      "source": [
        "test = pd.read_csv(r'/content/drive/MyDrive/Hackathon/Hackathon_2021/Out.csv',index_col= False)\n",
        "test"
      ],
      "execution_count": null,
      "outputs": [
        {
          "output_type": "execute_result",
          "data": {
            "text/html": [
              "<div>\n",
              "<style scoped>\n",
              "    .dataframe tbody tr th:only-of-type {\n",
              "        vertical-align: middle;\n",
              "    }\n",
              "\n",
              "    .dataframe tbody tr th {\n",
              "        vertical-align: top;\n",
              "    }\n",
              "\n",
              "    .dataframe thead th {\n",
              "        text-align: right;\n",
              "    }\n",
              "</style>\n",
              "<table border=\"1\" class=\"dataframe\">\n",
              "  <thead>\n",
              "    <tr style=\"text-align: right;\">\n",
              "      <th></th>\n",
              "      <th>ID</th>\n",
              "      <th>y</th>\n",
              "    </tr>\n",
              "  </thead>\n",
              "  <tbody>\n",
              "    <tr>\n",
              "      <th>0</th>\n",
              "      <td>1</td>\n",
              "      <td>80.1022</td>\n",
              "    </tr>\n",
              "    <tr>\n",
              "      <th>1</th>\n",
              "      <td>2</td>\n",
              "      <td>97.9905</td>\n",
              "    </tr>\n",
              "    <tr>\n",
              "      <th>2</th>\n",
              "      <td>3</td>\n",
              "      <td>82.0139</td>\n",
              "    </tr>\n",
              "    <tr>\n",
              "      <th>3</th>\n",
              "      <td>4</td>\n",
              "      <td>76.9878</td>\n",
              "    </tr>\n",
              "    <tr>\n",
              "      <th>4</th>\n",
              "      <td>5</td>\n",
              "      <td>111.0111</td>\n",
              "    </tr>\n",
              "    <tr>\n",
              "      <th>...</th>\n",
              "      <td>...</td>\n",
              "      <td>...</td>\n",
              "    </tr>\n",
              "    <tr>\n",
              "      <th>4204</th>\n",
              "      <td>8410</td>\n",
              "      <td>105.0004</td>\n",
              "    </tr>\n",
              "    <tr>\n",
              "      <th>4205</th>\n",
              "      <td>8411</td>\n",
              "      <td>95.0041</td>\n",
              "    </tr>\n",
              "    <tr>\n",
              "      <th>4206</th>\n",
              "      <td>8413</td>\n",
              "      <td>94.0024</td>\n",
              "    </tr>\n",
              "    <tr>\n",
              "      <th>4207</th>\n",
              "      <td>8414</td>\n",
              "      <td>111.0098</td>\n",
              "    </tr>\n",
              "    <tr>\n",
              "      <th>4208</th>\n",
              "      <td>8416</td>\n",
              "      <td>93.9982</td>\n",
              "    </tr>\n",
              "  </tbody>\n",
              "</table>\n",
              "<p>4209 rows × 2 columns</p>\n",
              "</div>"
            ],
            "text/plain": [
              "        ID         y\n",
              "0        1   80.1022\n",
              "1        2   97.9905\n",
              "2        3   82.0139\n",
              "3        4   76.9878\n",
              "4        5  111.0111\n",
              "...    ...       ...\n",
              "4204  8410  105.0004\n",
              "4205  8411   95.0041\n",
              "4206  8413   94.0024\n",
              "4207  8414  111.0098\n",
              "4208  8416   93.9982\n",
              "\n",
              "[4209 rows x 2 columns]"
            ]
          },
          "metadata": {
            "tags": []
          },
          "execution_count": 10
        }
      ]
    },
    {
      "cell_type": "code",
      "metadata": {
        "id": "g7SR1Mcn-bD6"
      },
      "source": [
        "seq = [[65,2222,5,1466,4211,2709],\n",
        "[841,7623,1241,1466,701,4211],\n",
        "[6189,4392,201,2135,6450,1241],\n",
        "[5,65,1466,2222,701,5370],\n",
        "[1111,1330,3213,701,65,7623],\n",
        "[2689,5,1111,701,548,1004]]"
      ],
      "execution_count": null,
      "outputs": []
    },
    {
      "cell_type": "code",
      "metadata": {
        "id": "lnL3AFoI2Jgn"
      },
      "source": [
        "def wait_time(seq_list,test_result):\n",
        "  t_sum = 0\n",
        "  for i in seq_list:\n",
        "    time = test_result.loc[test_result['ID'] == i,'Y'].iloc[0]\n",
        "    t_sum += time\n",
        "  return t_sum"
      ],
      "execution_count": null,
      "outputs": []
    },
    {
      "cell_type": "code",
      "metadata": {
        "id": "Vpv-GRIdAR_8"
      },
      "source": [
        "def machine_num(seq_list,main_matrix):\n",
        "  machine = []\n",
        "  for k in range(1,12):\n",
        "    value_list = []\n",
        "    for i in seq_list:\n",
        "      value = main_matrix.loc[matrix['Test ID'] == i]['{}'.format(k)].iloc[0]\n",
        "      value_list.append(value)\n",
        "    res = all(element == 'Y' for element in value_list)\n",
        "    if (res):\n",
        "      machine.append(k)\n",
        "    else:\n",
        "      machine.append('NA')\n",
        "  return machine"
      ],
      "execution_count": null,
      "outputs": []
    },
    {
      "cell_type": "code",
      "metadata": {
        "colab": {
          "base_uri": "https://localhost:8080/"
        },
        "id": "ZDDwyE53VM0p",
        "outputId": "bf0c06fb-ed45-486b-e2af-26ac552d22ea"
      },
      "source": [
        "t = [1004,6450,185,1466,2080]\n",
        "machine_num(t,matrix)"
      ],
      "execution_count": null,
      "outputs": [
        {
          "output_type": "execute_result",
          "data": {
            "text/plain": [
              "[1, 'NA', 'NA', 'NA', 5, 'NA', 'NA', 'NA', 'NA', 'NA', 'NA']"
            ]
          },
          "metadata": {
            "tags": []
          },
          "execution_count": 60
        }
      ]
    },
    {
      "cell_type": "code",
      "metadata": {
        "id": "nSyttpea3cwD"
      },
      "source": [
        "t_seq = []\n",
        "for i in range(len(seq)):\n",
        "  s = seq[i]\n",
        "  time = []\n",
        "  for k in s:\n",
        "    t = test.loc[test['ID'] == k,'y'].iloc[0]\n",
        "    time.append(t)\n",
        "  t_seq.append(time)"
      ],
      "execution_count": null,
      "outputs": []
    },
    {
      "cell_type": "code",
      "metadata": {
        "colab": {
          "base_uri": "https://localhost:8080/"
        },
        "id": "MvXJX_QdjI2o",
        "outputId": "4faee3f9-6b0e-4268-b074-a262eb660e7e"
      },
      "source": [
        "t_seq"
      ],
      "execution_count": null,
      "outputs": [
        {
          "output_type": "execute_result",
          "data": {
            "text/plain": [
              "[[105.00010000000002,\n",
              "  92.9934999999999,\n",
              "  111.01110000000016,\n",
              "  112.0115,\n",
              "  112.01560000000013,\n",
              "  78.87840000000004],\n",
              " [81.4012,\n",
              "  101.98919999999991,\n",
              "  112.01720000000013,\n",
              "  112.0115,\n",
              "  95.01070000000007,\n",
              "  112.01560000000013],\n",
              " [95.00970000000008,\n",
              "  112.01780000000002,\n",
              "  104.9927,\n",
              "  103.99069999999996,\n",
              "  112.01580000000013,\n",
              "  112.01720000000013],\n",
              " [111.01110000000016,\n",
              "  105.00010000000002,\n",
              "  112.0115,\n",
              "  92.9934999999999,\n",
              "  95.01070000000007,\n",
              "  94.00270000000008],\n",
              " [92.99379999999992,\n",
              "  112.01900000000006,\n",
              "  93.99940000000004,\n",
              "  95.01070000000007,\n",
              "  105.00010000000002,\n",
              "  101.98919999999991],\n",
              " [94.9992,\n",
              "  111.01110000000016,\n",
              "  92.99379999999992,\n",
              "  95.01070000000007,\n",
              "  80.84550000000002,\n",
              "  93.99850000000004]]"
            ]
          },
          "metadata": {
            "tags": []
          },
          "execution_count": 21
        }
      ]
    },
    {
      "cell_type": "code",
      "metadata": {
        "id": "A_1h110TJ-iN"
      },
      "source": [
        "for i in range(len(t_seq)):\n",
        "  t = np.sort(t_seq[i])"
      ],
      "execution_count": null,
      "outputs": []
    },
    {
      "cell_type": "code",
      "metadata": {
        "colab": {
          "base_uri": "https://localhost:8080/"
        },
        "id": "dcTcK_UWUBjX",
        "outputId": "e96a6f41-e89f-4076-fa00-b485b549fac7"
      },
      "source": [
        "min_first = [item[0] for item in t_seq]\n",
        "min(min_first)\n",
        "Id = test.loc[test['y'] == min(min_first),'ID'].iloc[0]\n",
        "Id"
      ],
      "execution_count": null,
      "outputs": [
        {
          "output_type": "execute_result",
          "data": {
            "text/plain": [
              "841"
            ]
          },
          "metadata": {
            "tags": []
          },
          "execution_count": 33
        }
      ]
    },
    {
      "cell_type": "code",
      "metadata": {
        "colab": {
          "base_uri": "https://localhost:8080/"
        },
        "id": "fEhDBxDJoBds",
        "outputId": "e4ddf64d-98bf-436b-aa7f-36c84087c0ef"
      },
      "source": [
        "sec = [item[1] for item in t_seq]\n",
        "s = set(sec)\n",
        "sorted(s)[1]\n",
        "Id2 = test.loc[test['y'] == sorted(s)[1],'ID'].iloc[0]\n",
        "Id2"
      ],
      "execution_count": null,
      "outputs": [
        {
          "output_type": "execute_result",
          "data": {
            "text/plain": [
              "7623"
            ]
          },
          "metadata": {
            "tags": []
          },
          "execution_count": 37
        }
      ]
    },
    {
      "cell_type": "code",
      "metadata": {
        "colab": {
          "base_uri": "https://localhost:8080/"
        },
        "id": "_jtUaxtrx2lT",
        "outputId": "50a45c6b-f679-4a4d-e0df-b1cdf630538f"
      },
      "source": [
        "sec = [item[1] for item in t_seq]\n",
        "s = set(sec)\n",
        "sor = sorted(s)[2]\n",
        "Id2 = test.loc[test['y'] == sor,'ID'].iloc[0]\n",
        "Id2"
      ],
      "execution_count": null,
      "outputs": [
        {
          "output_type": "execute_result",
          "data": {
            "text/plain": [
              "65"
            ]
          },
          "metadata": {
            "tags": []
          },
          "execution_count": 39
        }
      ]
    }
  ]
}